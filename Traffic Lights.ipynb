{
 "cells": [
  {
   "cell_type": "code",
   "execution_count": 1,
   "metadata": {
    "collapsed": true
   },
   "outputs": [],
   "source": [
    "import time\n",
    "from qhue import Bridge\n",
    "from rgb_cie import Converter"
   ]
  },
  {
   "cell_type": "code",
   "execution_count": 2,
   "metadata": {
    "collapsed": true
   },
   "outputs": [],
   "source": [
    "# Get bridge and lights\n",
    "b = Bridge('192.168.5.246', username='169afa3e470b8746681e62e06a7b581a')\n",
    "lights = b.groups()['1']['lights']"
   ]
  },
  {
   "cell_type": "code",
   "execution_count": 3,
   "metadata": {
    "collapsed": true
   },
   "outputs": [],
   "source": [
    "gyr = [(0,64,0), (92,64,0), (64,0,0)]\n",
    "\n",
    "converter = Converter()\n",
    "cie = [converter.rgbToCIE1931(*c) for c in gyr]"
   ]
  },
  {
   "cell_type": "code",
   "execution_count": 6,
   "metadata": {
    "collapsed": true
   },
   "outputs": [],
   "source": [
    "def traffic_light(l, colors=cie, timing=[30, 4, 10]):\n",
    "    while(1):\n",
    "        for color, t in zip(colors, timing):\n",
    "            b.lights(l, 'state', xy=color, bri=255)\n",
    "            time.sleep(t)"
   ]
  }
 ],
 "metadata": {
  "kernelspec": {
   "display_name": "Python 2",
   "language": "python",
   "name": "python2"
  },
  "language_info": {
   "codemirror_mode": {
    "name": "ipython",
    "version": 2
   },
   "file_extension": ".py",
   "mimetype": "text/x-python",
   "name": "python",
   "nbconvert_exporter": "python",
   "pygments_lexer": "ipython2",
   "version": "2.7.11"
  }
 },
 "nbformat": 4,
 "nbformat_minor": 0
}
